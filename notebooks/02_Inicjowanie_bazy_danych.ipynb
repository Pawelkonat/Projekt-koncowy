{
 "cells": [
  {
   "cell_type": "markdown",
   "metadata": {},
   "source": [
    " # Opis notatnika\n",
    " W tym notatniku skupimy się na stworzeniu dedykowanej bazy danych wraz ze strukturą tabel. Jednak w tym momencie nie będziemy jej uzupełniać danymi - tym zajmiemy się w kolejnej części.\n",
    " \n",
    " Ponownie wcielasz się w rolę Data Engineera, którego zadaniem jest dostarczenie klientowi bazy danych, która będzie używana do celów analityczno-raportowych. Bazy danych są podstawowym źródłem pracy dla Analityków Danych.\n",
    " \n",
    " Plik wraz ze strukturą bazy znajdziesz w folderze `sql/database_schema.sql`. \n",
    "\n",
    " > W tym zadaniu konieczne jest posiadanie zainstalowanego `Postgres` na swoim komputrze. Jeżeli z jakichś powodów został on usunięty po kursie `Python - Analiza Danych`, należy ponownie dokonać instalacji.\n",
    "\n",
    " > Posiadając działającą instancję serwera, można stworzyć po prostu nową bazę np. `airlines`. Stworzenie bazy danych powinno odbyć się w notatniku poprzez stworzenie obiektu cursor i wywołaniu zapytań znajdujących się w pliku .sql.\n",
    "\n",
    " W trakcie rozwiązywania tego notatnika przydadzą się następujące materiały:\n",
    " - `Python - analiza danych -> Przygotowanie do kursu -> Podstawy SQL - Praca samodzielna -> Instalacja bazy danych`\n",
    " - `Python - analiza danych -> Moduł 1 -> Dzień 3 - PostgreSQL -> SQL i Python`\n",
    " - `Python - analiza danych -> Prework -> Podstawy SQL - Praca samodzielna -> Instalacja bazy danych -> Przygotowanie bazy danych`\n",
    " \n",
    "Inicjację bazy danych wykonaj w notatniku, nie bezpośrednio na Postgresie."
   ]
  },
  {
   "cell_type": "markdown",
   "metadata": {},
   "source": [
    " Tutaj zaimportuj potrzebne biblioteki"
   ]
  },
  {
   "cell_type": "code",
   "execution_count": 4,
   "metadata": {},
   "outputs": [],
   "source": [
    "import psycopg2\n",
    "from psycopg2 import sql"
   ]
  },
  {
   "cell_type": "markdown",
   "metadata": {},
   "source": [
    " ## Połączenie z bazą danych\n",
    " Tutaj uzupełnij konfigurację połączenia"
   ]
  },
  {
   "cell_type": "code",
   "execution_count": 5,
   "metadata": {},
   "outputs": [],
   "source": [
    "username = ''\n",
    "password = '' ## trzeba wpisac swoje dane\n",
    "host = 'localhost'\n",
    "port = 5432\n",
    "database = 'airlines'"
   ]
  },
  {
   "cell_type": "markdown",
   "metadata": {},
   "source": [
    "Tutaj zdefiniuj zmienną `con` oraz `cursor`"
   ]
  },
  {
   "cell_type": "code",
   "execution_count": 6,
   "metadata": {},
   "outputs": [],
   "source": [
    "con = psycopg2.connect(\n",
    "    user=username,\n",
    "    password=password,\n",
    "    host=host,\n",
    "    port=port\n",
    ")\n",
    "\n",
    "con.autocommit = True\n",
    "\n",
    "cursor = con.cursor()\n",
    "\n",
    "create_database_query = sql.SQL(\"CREATE DATABASE {}\").format(\n",
    "    sql.Identifier(database)\n",
    ")\n",
    "\n",
    "cursor.execute(create_database_query)\n",
    "\n",
    "cursor.close()\n",
    "con.close()"
   ]
  },
  {
   "cell_type": "code",
   "execution_count": 7,
   "metadata": {},
   "outputs": [],
   "source": [
    "con = psycopg2.connect(\n",
    "    user=username,\n",
    "    password=password,\n",
    "    host=host,\n",
    "    port=port,\n",
    "    database=database\n",
    ")\n",
    "cursor = con.cursor()"
   ]
  },
  {
   "cell_type": "markdown",
   "metadata": {},
   "source": [
    " ## Wczytanie pliku `database_schema.sql`\n",
    " Z katalogu `sql` wczytaj plik `database_schema.sql`"
   ]
  },
  {
   "cell_type": "code",
   "execution_count": 8,
   "metadata": {},
   "outputs": [],
   "source": [
    "with open('../sql/database_schema.sql', 'r') as file:\n",
    "        queries = file.read().split(';')"
   ]
  },
  {
   "cell_type": "markdown",
   "metadata": {},
   "source": [
    " W tym miejscu odpowiednio rozdziel zawartość pliku `database_schema.sql` na mniejsze kwerendy używając `;`"
   ]
  },
  {
   "cell_type": "markdown",
   "metadata": {},
   "source": [
    " W tym miejscu wykonaj każdą z kwerend, aby zainicjować strukturę bazy danych"
   ]
  },
  {
   "cell_type": "code",
   "execution_count": 9,
   "metadata": {},
   "outputs": [],
   "source": [
    "for query in queries:\n",
    "        if query.strip():  \n",
    "            cursor.execute(query)"
   ]
  },
  {
   "cell_type": "markdown",
   "metadata": {},
   "source": [
    " Zatwierdznie wszystkich operacji na bazie, czyli stworzenie tabel"
   ]
  },
  {
   "cell_type": "code",
   "execution_count": 10,
   "metadata": {},
   "outputs": [],
   "source": [
    "con.commit()"
   ]
  },
  {
   "cell_type": "markdown",
   "metadata": {},
   "source": [
    " ### Sprawdzenie\n",
    " Uruchom kod poniżej, aby sprawdzić, czy ta część została poprawnie wykonana"
   ]
  },
  {
   "cell_type": "code",
   "execution_count": 11,
   "metadata": {},
   "outputs": [],
   "source": [
    "def check_if_table_exists(table_name):\n",
    "    msg = f\"Sprawdzam czy istnieje tabela {table_name}\"\n",
    "    print(msg)\n",
    "\n",
    "    query = f\"select 1 from {table_name}\"\n",
    "    cursor.execute(query)\n",
    "    print('OK!')"
   ]
  },
  {
   "cell_type": "code",
   "execution_count": 12,
   "metadata": {},
   "outputs": [],
   "source": [
    "tables_to_test = [\n",
    "    'aircraft',\n",
    "    'airport_weather',\n",
    "    'flight',\n",
    "    'airport_list'\n",
    "]"
   ]
  },
  {
   "cell_type": "code",
   "execution_count": 13,
   "metadata": {},
   "outputs": [
    {
     "name": "stdout",
     "output_type": "stream",
     "text": [
      "Sprawdzam czy istnieje tabela aircraft\n",
      "OK!\n",
      "Sprawdzam czy istnieje tabela airport_weather\n",
      "OK!\n",
      "Sprawdzam czy istnieje tabela flight\n",
      "OK!\n",
      "Sprawdzam czy istnieje tabela airport_list\n",
      "OK!\n"
     ]
    }
   ],
   "source": [
    "for table in tables_to_test:\n",
    "    check_if_table_exists(table)"
   ]
  },
  {
   "cell_type": "code",
   "execution_count": 14,
   "metadata": {},
   "outputs": [
    {
     "name": "stdout",
     "output_type": "stream",
     "text": [
      "Wszystko wygląda OK :) Możesz przejść do kolejnego zadania.\n"
     ]
    }
   ],
   "source": [
    "con.close()\n",
    "msg = \"Wszystko wygląda OK :) Możesz przejść do kolejnego zadania.\"\n",
    "print(msg)"
   ]
  },
  {
   "cell_type": "markdown",
   "metadata": {},
   "source": [
    " # Podsumowanie\n",
    " Za pomocą tego notatnika została zbudowana w sposób automatyczny nasza docelowa baza danych. Dzięki temu nie musimy się już martwić o jej ręczną przebudowę - w ramach potrzeby wystarczy włączyć notatnik.\n",
    " Wykonując kolejny notatnik, sprawimy, że w tabelach pojawią się również dane potrzebne do przeprowadzenia późniejszej analizy oraz wykorzystywane w raportowaniu."
   ]
  },
  {
   "cell_type": "code",
   "execution_count": null,
   "metadata": {},
   "outputs": [],
   "source": []
  }
 ],
 "metadata": {
  "kernelspec": {
   "display_name": "Python 3 (ipykernel)",
   "language": "python",
   "name": "python3"
  },
  "language_info": {
   "codemirror_mode": {
    "name": "ipython",
    "version": 3
   },
   "file_extension": ".py",
   "mimetype": "text/x-python",
   "name": "python",
   "nbconvert_exporter": "python",
   "pygments_lexer": "ipython3",
   "version": "3.11.4"
  },
  "vscode": {
   "interpreter": {
    "hash": "38d75d0df746d7f75dd34c5d1915af59cb55786647bd68b8d9064425d7680b12"
   }
  }
 },
 "nbformat": 4,
 "nbformat_minor": 2
}
